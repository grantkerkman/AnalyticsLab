{
 "cells": [
  {
   "cell_type": "markdown",
   "id": "999e010d-ad6e-497d-a030-a90623cb5b36",
   "metadata": {
    "tags": []
   },
   "source": [
    "### Extract-Transform-Load Project"
   ]
  },
  {
   "cell_type": "markdown",
   "id": "b82d8af8-b893-4574-bc6e-7c6f94ce60a4",
   "metadata": {
    "tags": []
   },
   "source": [
    "Dataset Source - https://www.kaggle.com/datasets/austinreese/craigslist-carstrucks-data"
   ]
  },
  {
   "cell_type": "code",
   "execution_count": null,
   "id": "7c5ef1b8-bd19-43f0-baca-055c55f049a3",
   "metadata": {
    "tags": []
   },
   "outputs": [],
   "source": [
    "# Import Dependencies\n",
    "import pandas as pd\n",
    "from pymongo import MongoClient\n",
    "from datetime import datetime"
   ]
  },
  {
   "cell_type": "code",
   "execution_count": null,
   "id": "88c069a8",
   "metadata": {},
   "outputs": [],
   "source": [
    "mongo = MongoClient(port=27017)"
   ]
  },
  {
   "cell_type": "code",
   "execution_count": null,
   "id": "1aa95f46-6faf-424b-a9de-fb042c244f01",
   "metadata": {
    "tags": []
   },
   "outputs": [],
   "source": [
    "# Read in the dataset\n",
    "raw_df = pd.read_csv(\"Resource/vehicles.csv\")\n",
    "\n",
    "raw_df.head()"
   ]
  },
  {
   "cell_type": "code",
   "execution_count": null,
   "id": "afb14b02-c684-44ca-b0bb-b92ce24da8e9",
   "metadata": {
    "tags": []
   },
   "outputs": [],
   "source": [
    "# Get basic information on the dataset\n",
    "raw_df.info()"
   ]
  },
  {
   "cell_type": "code",
   "execution_count": null,
   "id": "7b932e67-abe6-4f6e-a1d8-aca7c92bc8d1",
   "metadata": {
    "tags": []
   },
   "outputs": [],
   "source": [
    "# Drop the unnecessary columns\n",
    "columns_to_drop = ['county', 'region_url', 'image_url']\n",
    "raw_df = raw_df.drop(columns_to_drop, axis=1)"
   ]
  },
  {
   "cell_type": "code",
   "execution_count": null,
   "id": "d574bda3-1e8f-4cfc-bd42-4ba27c08ff8f",
   "metadata": {
    "tags": []
   },
   "outputs": [],
   "source": [
    "# Drop NaN Data\n",
    "raw_df.dropna(inplace=True)"
   ]
  },
  {
   "cell_type": "code",
   "execution_count": null,
   "id": "6bc9ad51-b4e8-48c5-bedd-2183f1f3134c",
   "metadata": {
    "tags": []
   },
   "outputs": [],
   "source": [
    "# Convert datatypes in the columns\n",
    "raw_df['year'] = raw_df['year'].astype(int)"
   ]
  },
  {
   "cell_type": "code",
   "execution_count": null,
   "id": "32739bfd-78cf-46e7-8662-ee64f46cd0d8",
   "metadata": {
    "tags": []
   },
   "outputs": [],
   "source": [
    "# Preview the cylinders column\n",
    "cylinders = raw_df['cylinders']\n",
    "print(cylinders.unique())"
   ]
  },
  {
   "cell_type": "code",
   "execution_count": null,
   "id": "6eacaea3-c96c-47b9-a427-64147916f342",
   "metadata": {
    "tags": []
   },
   "outputs": [],
   "source": [
    "# Remove the word cylinders from the column names\n",
    "new_cylinders = [cylinder.replace(' cylinders','') for cylinder in cylinders]\n",
    "print(new_cylinders[0:5])"
   ]
  },
  {
   "cell_type": "code",
   "execution_count": null,
   "id": "e39c9f7c-cf80-42ed-a27d-db43ca3b5332",
   "metadata": {},
   "outputs": [],
   "source": [
    "# Preview the posting date\n",
    "date_preview = raw_df['posting_date']\n",
    "print(date_preview[0:5])"
   ]
  },
  {
   "cell_type": "code",
   "execution_count": null,
   "id": "a6499e66-788d-48ae-8bb7-65ffbb1f519b",
   "metadata": {
    "tags": []
   },
   "outputs": [],
   "source": [
    "# Convert the osting date column into datetime (currently in ISO 8601)\n",
    "dates = raw_df['posting_date']\n",
    "new_dates = [date.split('T')[0] for date in dates]\n",
    "\n",
    "print(new_dates[0:5])"
   ]
  },
  {
   "cell_type": "code",
   "execution_count": null,
   "id": "5f4f3d8c-df9a-49bf-82e5-9878452ba710",
   "metadata": {
    "tags": []
   },
   "outputs": [],
   "source": [
    "# Replace the cylinders and date columns with the cleaned data\n",
    "raw_df['cylinders'] = new_cylinders\n",
    "raw_df['posting_date'] = new_dates"
   ]
  },
  {
   "cell_type": "code",
   "execution_count": null,
   "id": "f5b0d590-9bf1-4925-a121-a8012b09acc2",
   "metadata": {
    "tags": []
   },
   "outputs": [],
   "source": [
    "# Change the dtype on the posting_date column to be datetime\n",
    "raw_df['posting_date'] = pd.to_datetime(raw_df['posting_date'], errors='coerce')"
   ]
  },
  {
   "cell_type": "code",
   "execution_count": null,
   "id": "4d2568b2-9b0e-4c35-a879-2ff3c8e93a88",
   "metadata": {
    "tags": []
   },
   "outputs": [],
   "source": [
    "# Final preview of cleaned data\n",
    "raw_df.info()"
   ]
  },
  {
   "cell_type": "code",
   "execution_count": null,
   "id": "c10a8cae-1871-4100-8a62-70a44f31a0be",
   "metadata": {},
   "outputs": [],
   "source": [
    "col = mongo['forsale_db']['vehicles']\n",
    "data = raw_df.to_dict(orient='records')\n",
    "col.insert_many(data)"
   ]
  }
 ],
 "metadata": {
  "kernelspec": {
   "display_name": "Python 3 (ipykernel)",
   "language": "python",
   "name": "python3"
  },
  "language_info": {
   "codemirror_mode": {
    "name": "ipython",
    "version": 3
   },
   "file_extension": ".py",
   "mimetype": "text/x-python",
   "name": "python",
   "nbconvert_exporter": "python",
   "pygments_lexer": "ipython3",
   "version": "3.10.12"
  }
 },
 "nbformat": 4,
 "nbformat_minor": 5
}
